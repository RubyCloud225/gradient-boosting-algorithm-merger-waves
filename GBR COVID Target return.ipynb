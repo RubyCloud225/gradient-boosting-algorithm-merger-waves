{
 "cells": [
  {
   "cell_type": "code",
   "execution_count": null,
   "id": "af8c85ee-ab7b-4520-ae6a-bc8a8378105e",
   "metadata": {},
   "outputs": [],
   "source": [
    "import numpy as np\n",
    "import matplotlib.pyplot as plt\n",
    "import matplotlib as mpl\n",
    "import seaborn as sns\n",
    "import scipy.stats as stats\n",
    "from sklearn.tree import DecisionTreeRegressor\n",
    "sns.set()"
   ]
  },
  {
   "cell_type": "code",
   "execution_count": null,
   "id": "6d3dd0b9-d4a2-4e86-9bdd-830eb6051da1",
   "metadata": {},
   "outputs": [],
   "source": [
    "np.random.seed(123)\n",
    "x = np.linspace(0, 0.0031, 10)\n",
    "y = (stats.gamma.pdf(x, a=2, loc=0, scale=17) + np.random.normal(0,0.00803,10)) * 100\n",
    "x = x.reshape(-1,1)"
   ]
  },
  {
   "cell_type": "code",
   "execution_count": null,
   "id": "e06d6355-014e-4c21-a1c6-188873671584",
   "metadata": {},
   "outputs": [],
   "source": [
    "plt.rcParams['figure.figsize'] = (8, 5)\n",
    "plt.scatter(x, y, s=90, alpha=0.8)\n",
    "plt.xlabel('x', fontsize=16)\n",
    "plt.ylabel('y', fontsize=16)\n",
    "plt.show()"
   ]
  },
  {
   "cell_type": "code",
   "execution_count": null,
   "id": "162f94a1-7d93-40e4-b0ed-2549c13982dc",
   "metadata": {},
   "outputs": [],
   "source": [
    "plt.scatter(x, y, s=90, alpha=0.8)\n",
    "plt.axhline(y=y.mean(), color='r', linestyle='-', label=r'$F_{0} = \\bar{y}$')\n",
    "plt.xlabel('x', fontsize=16)\n",
    "plt.ylabel('y', fontsize=16)\n",
    "plt.legend(fontsize=16)\n",
    "plt.show()"
   ]
  },
  {
   "cell_type": "code",
   "execution_count": null,
   "id": "c93a6e53-e18b-4ba5-b2a1-8d4ed8f6bb87",
   "metadata": {},
   "outputs": [],
   "source": [
    "def plot_residuals(x, y, Fm, i, ax, title = ''):\n",
    "    fltr_smaller = y < Fm\n",
    "    fltr_bigger = y >= Fm\n",
    "    \n",
    "    ax.scatter(x, y, s=90, alpha=0.8)\n",
    "    ax.plot(x, Fm, c='r', label=f'$F_{i}$')\n",
    "    ax.vlines(x[fltr_smaller], y[fltr_smaller], Fm[fltr_smaller], linewidth=0.5, color='b', label=f'$r_{i+1} = y - F_{i}$')\n",
    "    ax.vlines(x[fltr_bigger], Fm[fltr_bigger], y[fltr_bigger], linewidth=0.5, color='b')\n",
    "    ax.set_title(title, fontsize=16)\n",
    "    ax.set_xlabel('x', fontsize=16)\n",
    "    ax.set_ylabel('y', fontsize=16)\n",
    "    ax.legend(fontsize=16)\n",
    "\n",
    "fig, ax = plt.subplots(1, 1)\n",
    "F0 = np.full(len(y), y.mean())\n",
    "plot_residuals(x, y, F0, 0, ax)\n",
    "plt.show()"
   ]
  },
  {
   "cell_type": "code",
   "execution_count": null,
   "id": "f4b42efd-ff15-4d74-9f67-0ea29f904c8a",
   "metadata": {},
   "outputs": [],
   "source": [
    "def print_tree(clf):\n",
    "    n_nodes = clf.tree_.node_count\n",
    "    children_left = clf.tree_.children_left\n",
    "    children_right = clf.tree_.children_right\n",
    "    feature = clf.tree_.feature\n",
    "    threshold = clf.tree_.threshold\n",
    "    \n",
    "    node_depth = np.zeros(shape=n_nodes, dtype=np.int64)\n",
    "    is_leaves = np.zeros(shape=n_nodes, dtype=bool)\n",
    "    stack = [(0, 0)]\n",
    "    while len(stack) > 0:\n",
    "        node_id, depth = stack.pop()\n",
    "        node_depth[node_id] = depth\n",
    "        is_split_node = children_left[node_id] != children_right[node_id]\n",
    "        if is_split_node:\n",
    "            stack.append((children_left[node_id], depth + 1))\n",
    "            stack.append((children_right[node_id], depth + 1))\n",
    "        else:\n",
    "            is_leaves[node_id] = True\n",
    "    print('-'*80)\n",
    "    print(\n",
    "        \"the binary tree structure has {n} nodes and has \"\n",
    "        \"the following tree structure: \\n\".format(n=n_nodes)\n",
    "    )\n",
    "    for i in range(n_nodes):\n",
    "        if is_leaves[i]:\n",
    "            print(\n",
    "                \"{space}node={node} is a leaf node.\".format(\n",
    "                    space=node_depth[i] * \"\\t\", node=i\n",
    "                )\n",
    "            )\n",
    "            print(node_depth[i] * '\\t', f\"prediction: {clf.tree_.value[i, 0, 0]:.1f}\")\n",
    "        else:\n",
    "            print(\n",
    "                \"{space}node={node} is a spilt node: \"\n",
    "                \"go to node {left} if X[:, {feature}] <= {threshold} \"\n",
    "                \"else to node {right}.\".format(\n",
    "                    space= node_depth[i] * \"\\t\",\n",
    "                    node=i,\n",
    "                    left=children_left[i],\n",
    "                    feature=feature[i],\n",
    "                    threshold=threshold[i],\n",
    "                    right=children_right[i],\n",
    "                )\n",
    "            )\n",
    "        print('-'*80)"
   ]
  },
  {
   "cell_type": "code",
   "execution_count": null,
   "id": "0c304086-7dd5-4ea3-8d84-581a8e52f24a",
   "metadata": {},
   "outputs": [],
   "source": [
    "def train_and_update(x, y, Fm, learning_rate=0.1):\n",
    "    r = y - Fm\n",
    "    tree = DecisionTreeRegressor(max_depth=1, random_state=0)\n",
    "    tree.fit(x, r)\n",
    "    gamma = tree.predict(x)\n",
    "    Fm = Fm +learning_rate * gamma\n",
    "    \n",
    "    return tree, Fm, gamma, r"
   ]
  },
  {
   "cell_type": "code",
   "execution_count": null,
   "id": "25cf5171-0287-4119-b737-480591e73f42",
   "metadata": {},
   "outputs": [],
   "source": [
    "def plot_gamma(x, residuals, gamma, i, ax, title = \"\"):\n",
    "    \n",
    "    ax.scatter(x, residuals, color = 'g', s=90, alpha=0.8, label=f'$r_{i} = y - F_{i-1}$')\n",
    "    ax.plot(x, gamma, c='b', label=f'$y-{i}$')\n",
    "    ax.set_title(title, fontsize=16)\n",
    "    ax.set_xlabel(\"x\", fontsize=16)\n",
    "    ax.set_ylabel(\"r\", fontsize=16)\n",
    "    ax.legend(fontsize=16)\n",
    "    \n",
    "tree, Fm, gamma, r = train_and_update(x, y, F0, learning_rate=0.9)\n",
    "\n",
    "fig, ax = plt.subplots(1, 1)\n",
    "plot_gamma(x, r, gamma, 1, ax, \"Fitting tree to residuals(r)\")\n",
    "plt.show()\n",
    "print_tree(tree)"
   ]
  },
  {
   "cell_type": "code",
   "execution_count": null,
   "id": "17f439c8-8b95-47f9-8faa-37c33f537101",
   "metadata": {},
   "outputs": [],
   "source": [
    "def plot_update(x, y, Fm, Fm_pre, i):\n",
    "    plt.scatter(x, y, s=90, alpha=0.8)\n",
    "    plt.plot(x, Fm_pre, c='r', linestyle='--', label=f'$F_{i-1}$', alpha=0.5)\n",
    "    plt.plot(x, Fm, c='r', label=f'$F_{i}$')\n",
    "    plt.title(f\"Predictions($F_{i-1}$) are updated to $F_{i}$\", fontsize=16)\n",
    "    plt.xlabel(\"x\", fontsize=16)\n",
    "    plt.ylabel(\"y\", fontsize=16)\n",
    "    plt.legend(fontsize=16)\n",
    "    plt.show()\n",
    "    \n",
    "plot_update(x, y, Fm, F0, 1)"
   ]
  },
  {
   "cell_type": "code",
   "execution_count": null,
   "id": "23d31f7e-5b6c-4d2f-baa3-95c2b95dba97",
   "metadata": {},
   "outputs": [],
   "source": [
    "fig, ax = plt.subplots(1, 1)\n",
    "plot_residuals(x, y, Fm, 1, ax)\n",
    "plt.show()"
   ]
  },
  {
   "cell_type": "code",
   "execution_count": null,
   "id": "bb5dded9-e716-4b6b-98aa-6524b87e61f9",
   "metadata": {},
   "outputs": [],
   "source": [
    "Fm_pre = Fm.copy()\n",
    "tree, Fm, gamma, r = train_and_update(x, y, Fm, learning_rate=0.9)\n",
    "\n",
    "fig, ax = plt.subplots(1, 1)\n",
    "plot_gamma(x, r, gamma, 2, ax, \"Fitting tree to residuals(r)\")\n",
    "plt.show()\n",
    "print_tree(tree)"
   ]
  },
  {
   "cell_type": "code",
   "execution_count": null,
   "id": "29530421-d2ef-461b-b294-6df369a7a5ae",
   "metadata": {},
   "outputs": [],
   "source": [
    "plot_update(x, y, Fm, Fm_pre, 2)"
   ]
  },
  {
   "cell_type": "code",
   "execution_count": null,
   "id": "4d9ff011-32b0-4abd-915f-6fdca85b1a9b",
   "metadata": {},
   "outputs": [],
   "source": [
    "Fm = F0 = np.full(len(y), y.mean())\n",
    "n_estimators = 6\n",
    "\n",
    "fig, axs = plt.subplots(n_estimators+1, 2, figsize=(15, 4*(n_estimators+1)))\n",
    "axs = axs.flatten()\n",
    "axs[0].axis('off')\n",
    "\n",
    "plot_residuals(x, y, F0, 0, axs[1], title=\"Predictions of iteration 0\")\n",
    "\n",
    "for i in range(n_estimators):\n",
    "    tree, Fm, gamma, r = train_and_update(x, y, Fm, learning_rate=0.9)\n",
    "    \n",
    "    j = 2 + i*2\n",
    "    plot_gamma(x, r, gamma, i+1, axs[j], f\"Residuals of iteration {i+1}\")\n",
    "    plot_residuals(x, y, Fm, i+1, axs[j+1], title=f\"Predictions of iteration {i+1}\")\n",
    "    \n",
    "plt.tight_layout()\n",
    "plt.show()"
   ]
  },
  {
   "cell_type": "code",
   "execution_count": null,
   "id": "2a608e45-f90b-4f2e-b109-b362373dfc0d",
   "metadata": {},
   "outputs": [],
   "source": [
    "class CustomGradientBoostingRegressor:\n",
    "    def __init__(self, learning_rate, n_estimators, max_depth=1):\n",
    "        self.learning_rate = learning_rate\n",
    "        self.n_estimators = n_estimators\n",
    "        self.max_depth = max_depth\n",
    "        self.trees = []\n",
    "        \n",
    "    def fit(self, X, y):\n",
    "        self.F0 = y.mean()\n",
    "        Fm = self.F0\n",
    "        \n",
    "        for _ in range(self.n_estimators):\n",
    "            r = y - Fm\n",
    "            tree = DecisionTreeRegressor(max_depth=self.max_depth, random_state=0)\n",
    "            tree.fit(X, r)\n",
    "            gamma = tree.predict(X)\n",
    "            Fm += self.learning_rate * gamma\n",
    "            self.trees.append(tree)\n",
    "            \n",
    "    def predict(self, X):\n",
    "        \n",
    "        Fm = self.F0\n",
    "        \n",
    "        for i in range(self.n_estimators):\n",
    "            Fm += self.learning_rate * self.trees[i].predict(X)\n",
    "            \n",
    "        return Fm"
   ]
  },
  {
   "cell_type": "code",
   "execution_count": null,
   "id": "9fc41637-9679-44df-8f36-c580ba6cc4e8",
   "metadata": {},
   "outputs": [],
   "source": [
    "from sklearn.metrics import mean_squared_error\n",
    "custom_gbm = CustomGradientBoostingRegressor(\n",
    "    n_estimators=20,\n",
    "    learning_rate=0.1, \n",
    "    max_depth=1\n",
    ")\n",
    "custom_gbm.fit(x, y)\n",
    "custom_gbm_rmse = mean_squared_error(y, custom_gbm.predict(x), squared=False)\n",
    "print(f'Custom GBM RMSE: {custom_gbm_rmse:.15f}')"
   ]
  },
  {
   "cell_type": "code",
   "execution_count": null,
   "id": "c62d8a1a-1eff-4056-9e50-9c5fb2cede6a",
   "metadata": {},
   "outputs": [],
   "source": []
  }
 ],
 "metadata": {
  "kernelspec": {
   "display_name": "Python 3 (ipykernel)",
   "language": "python",
   "name": "python3"
  },
  "language_info": {
   "codemirror_mode": {
    "name": "ipython",
    "version": 3
   },
   "file_extension": ".py",
   "mimetype": "text/x-python",
   "name": "python",
   "nbconvert_exporter": "python",
   "pygments_lexer": "ipython3",
   "version": "3.9.7"
  }
 },
 "nbformat": 4,
 "nbformat_minor": 5
}
